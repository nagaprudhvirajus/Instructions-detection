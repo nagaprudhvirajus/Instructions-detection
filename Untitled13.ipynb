{
 "cells": [
  {
   "cell_type": "code",
   "execution_count": 1,
   "id": "115452a7",
   "metadata": {},
   "outputs": [
    {
     "name": "stdout",
     "output_type": "stream",
     "text": [
      "             Algorithm  AUC-ROC Accuracy Precision    Recall  F1-Score  \\\n",
      "0        Random Forest     0.96     ~96%      High      High      High   \n",
      "1        Decision Tree     0.95     ~95%  Moderate  Moderate  Moderate   \n",
      "2                  SVM     0.95     ~95%      High      High      High   \n",
      "3                  KNN     0.94     ~94%  Moderate  Moderate  Moderate   \n",
      "4                  GNB     0.92     ~92%  Moderate      High  Moderate   \n",
      "5  Logistic Regression     0.95     ~95%  Moderate  Moderate  Moderate   \n",
      "6              Entropy     0.93     ~93%  Moderate  Moderate  Moderate   \n",
      "7            Info Gain     0.94     ~94%  Moderate  Moderate  Moderate   \n",
      "\n",
      "    Computation Time Overfitting Risk  \n",
      "0           Moderate              Low  \n",
      "1               Fast             High  \n",
      "2  Slow (large data)         Moderate  \n",
      "3  Slow (large data)              Low  \n",
      "4               Fast              Low  \n",
      "5               Fast              Low  \n",
      "6               Fast         Moderate  \n",
      "7               Fast         Moderate  \n"
     ]
    }
   ],
   "source": [
    "import pandas as pd\n",
    "\n",
    "# Creating the performance metrics data\n",
    "metrics_data = {\n",
    "    \"Algorithm\": [\n",
    "        \"Random Forest\", \"Decision Tree\", \"SVM\", \"KNN\", \"GNB\",\n",
    "        \"Logistic Regression\", \"Entropy\", \"Info Gain\"\n",
    "    ],\n",
    "    \"AUC-ROC\": [0.96, 0.95, 0.95, 0.94, 0.92, 0.95, 0.93, 0.94],\n",
    "    \"Accuracy\": [\"~96%\", \"~95%\", \"~95%\", \"~94%\", \"~92%\", \"~95%\", \"~93%\", \"~94%\"],\n",
    "    \"Precision\": [\"High\", \"Moderate\", \"High\", \"Moderate\", \"Moderate\", \"Moderate\", \"Moderate\", \"Moderate\"],\n",
    "    \"Recall\": [\"High\", \"Moderate\", \"High\", \"Moderate\", \"High\", \"Moderate\", \"Moderate\", \"Moderate\"],\n",
    "    \"F1-Score\": [\"High\", \"Moderate\", \"High\", \"Moderate\", \"Moderate\", \"Moderate\", \"Moderate\", \"Moderate\"],\n",
    "    \"Computation Time\": [\"Moderate\", \"Fast\", \"Slow (large data)\", \"Slow (large data)\", \"Fast\", \"Fast\", \"Fast\", \"Fast\"],\n",
    "    \"Overfitting Risk\": [\"Low\", \"High\", \"Moderate\", \"Low\", \"Low\", \"Low\", \"Moderate\", \"Moderate\"]\n",
    "}\n",
    "\n",
    "# Creating a DataFrame\n",
    "df = pd.DataFrame(metrics_data)\n",
    "\n",
    "# Displaying the table\n",
    "print(df)"
   ]
  },
  {
   "cell_type": "code",
   "execution_count": 2,
   "id": "2765d184",
   "metadata": {},
   "outputs": [
    {
     "name": "stdout",
     "output_type": "stream",
     "text": [
      "+----+---------------------+-----------+------------+-------------+----------+------------+--------------------+--------------------+\n",
      "|    | Algorithm           |   AUC-ROC | Accuracy   | Precision   | Recall   | F1-Score   | Computation Time   | Overfitting Risk   |\n",
      "+====+=====================+===========+============+=============+==========+============+====================+====================+\n",
      "|  0 | Random Forest       |      0.96 | ~96%       | High        | High     | High       | Moderate           | Low                |\n",
      "+----+---------------------+-----------+------------+-------------+----------+------------+--------------------+--------------------+\n",
      "|  1 | Decision Tree       |      0.95 | ~95%       | Moderate    | Moderate | Moderate   | Fast               | High               |\n",
      "+----+---------------------+-----------+------------+-------------+----------+------------+--------------------+--------------------+\n",
      "|  2 | SVM                 |      0.95 | ~95%       | High        | High     | High       | Slow (large data)  | Moderate           |\n",
      "+----+---------------------+-----------+------------+-------------+----------+------------+--------------------+--------------------+\n",
      "|  3 | KNN                 |      0.94 | ~94%       | Moderate    | Moderate | Moderate   | Slow (large data)  | Low                |\n",
      "+----+---------------------+-----------+------------+-------------+----------+------------+--------------------+--------------------+\n",
      "|  4 | GNB                 |      0.92 | ~92%       | Moderate    | High     | Moderate   | Fast               | Low                |\n",
      "+----+---------------------+-----------+------------+-------------+----------+------------+--------------------+--------------------+\n",
      "|  5 | Logistic Regression |      0.95 | ~95%       | Moderate    | Moderate | Moderate   | Fast               | Low                |\n",
      "+----+---------------------+-----------+------------+-------------+----------+------------+--------------------+--------------------+\n",
      "|  6 | Entropy             |      0.93 | ~93%       | Moderate    | Moderate | Moderate   | Fast               | Moderate           |\n",
      "+----+---------------------+-----------+------------+-------------+----------+------------+--------------------+--------------------+\n",
      "|  7 | Info Gain           |      0.94 | ~94%       | Moderate    | Moderate | Moderate   | Fast               | Moderate           |\n",
      "+----+---------------------+-----------+------------+-------------+----------+------------+--------------------+--------------------+\n"
     ]
    }
   ],
   "source": [
    "import pandas as pd\n",
    "from tabulate import tabulate\n",
    "\n",
    "# Creating the performance metrics data\n",
    "metrics_data = {\n",
    "    \"Algorithm\": [\n",
    "        \"Random Forest\", \"Decision Tree\", \"SVM\", \"KNN\", \"GNB\",\n",
    "        \"Logistic Regression\", \"Entropy\", \"Info Gain\"\n",
    "    ],\n",
    "    \"AUC-ROC\": [0.96, 0.95, 0.95, 0.94, 0.92, 0.95, 0.93, 0.94],\n",
    "    \"Accuracy\": [\"~96%\", \"~95%\", \"~95%\", \"~94%\", \"~92%\", \"~95%\", \"~93%\", \"~94%\"],\n",
    "    \"Precision\": [\"High\", \"Moderate\", \"High\", \"Moderate\", \"Moderate\", \"Moderate\", \"Moderate\", \"Moderate\"],\n",
    "    \"Recall\": [\"High\", \"Moderate\", \"High\", \"Moderate\", \"High\", \"Moderate\", \"Moderate\", \"Moderate\"],\n",
    "    \"F1-Score\": [\"High\", \"Moderate\", \"High\", \"Moderate\", \"Moderate\", \"Moderate\", \"Moderate\", \"Moderate\"],\n",
    "    \"Computation Time\": [\"Moderate\", \"Fast\", \"Slow (large data)\", \"Slow (large data)\", \"Fast\", \"Fast\", \"Fast\", \"Fast\"],\n",
    "    \"Overfitting Risk\": [\"Low\", \"High\", \"Moderate\", \"Low\", \"Low\", \"Low\", \"Moderate\", \"Moderate\"]\n",
    "}\n",
    "\n",
    "# Creating a DataFrame\n",
    "df = pd.DataFrame(metrics_data)\n",
    "\n",
    "# Displaying the table in a structured format\n",
    "print(tabulate(df, headers='keys', tablefmt='grid'))\n"
   ]
  },
  {
   "cell_type": "code",
   "execution_count": null,
   "id": "3ceeff19",
   "metadata": {},
   "outputs": [],
   "source": []
  }
 ],
 "metadata": {
  "kernelspec": {
   "display_name": "Python 3 (ipykernel)",
   "language": "python",
   "name": "python3"
  },
  "language_info": {
   "codemirror_mode": {
    "name": "ipython",
    "version": 3
   },
   "file_extension": ".py",
   "mimetype": "text/x-python",
   "name": "python",
   "nbconvert_exporter": "python",
   "pygments_lexer": "ipython3",
   "version": "3.9.12"
  }
 },
 "nbformat": 4,
 "nbformat_minor": 5
}
